{
 "cells": [
  {
   "cell_type": "code",
   "execution_count": null,
   "metadata": {
    "collapsed": true
   },
   "outputs": [],
   "source": []
  },
  {
   "cell_type": "markdown",
   "metadata": {},
   "source": [
    "# Import packages and functions"
   ]
  },
  {
   "cell_type": "code",
   "execution_count": 1,
   "metadata": {
    "collapsed": true
   },
   "outputs": [],
   "source": [
    "%matplotlib inline\n",
    "%run utils.py"
   ]
  },
  {
   "cell_type": "code",
   "execution_count": null,
   "metadata": {
    "collapsed": true
   },
   "outputs": [],
   "source": []
  },
  {
   "cell_type": "code",
   "execution_count": 2,
   "metadata": {
    "collapsed": true
   },
   "outputs": [],
   "source": [
    "FILE_PATH_SHORT = 'input/short_simulation.mat'\n",
    "FILE_PATH_LONG = 'input/long_simulation.mat'"
   ]
  },
  {
   "cell_type": "code",
   "execution_count": null,
   "metadata": {
    "collapsed": true
   },
   "outputs": [],
   "source": []
  },
  {
   "cell_type": "markdown",
   "metadata": {},
   "source": [
    "# Convert Matlab file into Pandas Data frame"
   ]
  },
  {
   "cell_type": "code",
   "execution_count": 3,
   "metadata": {},
   "outputs": [
    {
     "name": "stdout",
     "output_type": "stream",
     "text": [
      "['__header__', '__version__', '__globals__', 'Simulation']\n",
      "Matlab file is converted to DataFrame\n",
      "Independent variables have been read :  (5000000, 7)\n",
      "Simulation Result is read\n"
     ]
    }
   ],
   "source": [
    "# read Matlab file and convert into DataFrame Simulation parameters i.e. independent variables\n",
    "simulation = read_and_save_simulation(FILE_PATH_LONG)"
   ]
  },
  {
   "cell_type": "code",
   "execution_count": null,
   "metadata": {
    "collapsed": true
   },
   "outputs": [],
   "source": []
  },
  {
   "cell_type": "markdown",
   "metadata": {},
   "source": [
    "## Descriptive statistics"
   ]
  },
  {
   "cell_type": "code",
   "execution_count": 9,
   "metadata": {},
   "outputs": [
    {
     "name": "stdout",
     "output_type": "stream",
     "text": [
      "Dimension of the simulation :  (20000000, 10)\n"
     ]
    },
    {
     "data": {
      "text/html": [
       "<div>\n",
       "<style>\n",
       "    .dataframe thead tr:only-child th {\n",
       "        text-align: right;\n",
       "    }\n",
       "\n",
       "    .dataframe thead th {\n",
       "        text-align: left;\n",
       "    }\n",
       "\n",
       "    .dataframe tbody tr th {\n",
       "        vertical-align: top;\n",
       "    }\n",
       "</style>\n",
       "<table border=\"1\" class=\"dataframe\">\n",
       "  <thead>\n",
       "    <tr style=\"text-align: right;\">\n",
       "      <th></th>\n",
       "      <th>id</th>\n",
       "      <th>len</th>\n",
       "      <th>distance_source</th>\n",
       "      <th>con</th>\n",
       "      <th>snr</th>\n",
       "      <th>depth_1</th>\n",
       "      <th>depth_2</th>\n",
       "      <th>localization_source</th>\n",
       "      <th>connectivity_estimate</th>\n",
       "      <th>y</th>\n",
       "    </tr>\n",
       "  </thead>\n",
       "  <tbody>\n",
       "    <tr>\n",
       "      <th>0</th>\n",
       "      <td>0.0</td>\n",
       "      <td>1179.0</td>\n",
       "      <td>89.452006</td>\n",
       "      <td>1.0</td>\n",
       "      <td>0.657092</td>\n",
       "      <td>93.914788</td>\n",
       "      <td>46.159509</td>\n",
       "      <td>0.0</td>\n",
       "      <td>0.0</td>\n",
       "      <td>1.0</td>\n",
       "    </tr>\n",
       "    <tr>\n",
       "      <th>1</th>\n",
       "      <td>0.0</td>\n",
       "      <td>1179.0</td>\n",
       "      <td>89.452006</td>\n",
       "      <td>1.0</td>\n",
       "      <td>0.657092</td>\n",
       "      <td>93.914788</td>\n",
       "      <td>46.159509</td>\n",
       "      <td>0.0</td>\n",
       "      <td>1.0</td>\n",
       "      <td>1.0</td>\n",
       "    </tr>\n",
       "    <tr>\n",
       "      <th>2</th>\n",
       "      <td>0.0</td>\n",
       "      <td>1179.0</td>\n",
       "      <td>89.452006</td>\n",
       "      <td>1.0</td>\n",
       "      <td>0.657092</td>\n",
       "      <td>93.914788</td>\n",
       "      <td>46.159509</td>\n",
       "      <td>1.0</td>\n",
       "      <td>0.0</td>\n",
       "      <td>1.0</td>\n",
       "    </tr>\n",
       "    <tr>\n",
       "      <th>3</th>\n",
       "      <td>0.0</td>\n",
       "      <td>1179.0</td>\n",
       "      <td>89.452006</td>\n",
       "      <td>1.0</td>\n",
       "      <td>0.657092</td>\n",
       "      <td>93.914788</td>\n",
       "      <td>46.159509</td>\n",
       "      <td>1.0</td>\n",
       "      <td>1.0</td>\n",
       "      <td>1.0</td>\n",
       "    </tr>\n",
       "    <tr>\n",
       "      <th>4</th>\n",
       "      <td>1.0</td>\n",
       "      <td>1214.0</td>\n",
       "      <td>61.476372</td>\n",
       "      <td>0.0</td>\n",
       "      <td>0.806123</td>\n",
       "      <td>65.795515</td>\n",
       "      <td>7.270739</td>\n",
       "      <td>0.0</td>\n",
       "      <td>0.0</td>\n",
       "      <td>0.5</td>\n",
       "    </tr>\n",
       "  </tbody>\n",
       "</table>\n",
       "</div>"
      ],
      "text/plain": [
       "    id     len  distance_source  con       snr    depth_1    depth_2  \\\n",
       "0  0.0  1179.0        89.452006  1.0  0.657092  93.914788  46.159509   \n",
       "1  0.0  1179.0        89.452006  1.0  0.657092  93.914788  46.159509   \n",
       "2  0.0  1179.0        89.452006  1.0  0.657092  93.914788  46.159509   \n",
       "3  0.0  1179.0        89.452006  1.0  0.657092  93.914788  46.159509   \n",
       "4  1.0  1214.0        61.476372  0.0  0.806123  65.795515   7.270739   \n",
       "\n",
       "   localization_source  connectivity_estimate    y  \n",
       "0                  0.0                    0.0  1.0  \n",
       "1                  0.0                    1.0  1.0  \n",
       "2                  1.0                    0.0  1.0  \n",
       "3                  1.0                    1.0  1.0  \n",
       "4                  0.0                    0.0  0.5  "
      ]
     },
     "execution_count": 9,
     "metadata": {},
     "output_type": "execute_result"
    }
   ],
   "source": [
    "print('Dimension of the simulation : ', simulation.shape)\n",
    "simulation.head()"
   ]
  },
  {
   "cell_type": "code",
   "execution_count": null,
   "metadata": {
    "collapsed": true
   },
   "outputs": [],
   "source": []
  },
  {
   "cell_type": "markdown",
   "metadata": {},
   "source": [
    "## Target variable"
   ]
  },
  {
   "cell_type": "code",
   "execution_count": 9,
   "metadata": {},
   "outputs": [
    {
     "data": {
      "text/plain": [
       "0.0    55.206085\n",
       "1.0    37.256930\n",
       "0.5     7.536985\n",
       "Name: y, dtype: float64"
      ]
     },
     "execution_count": 9,
     "metadata": {},
     "output_type": "execute_result"
    }
   ],
   "source": [
    "# frequency of the target variable: class balance\n",
    "simulation.y.value_counts(normalize=True) * 100"
   ]
  },
  {
   "cell_type": "code",
   "execution_count": 8,
   "metadata": {},
   "outputs": [
    {
     "data": {
      "image/png": "[encoded data removed]",
      "text/plain": [
       "<matplotlib.figure.Figure at 0x2572f7b8d30>"
      ]
     },
     "metadata": {},
     "output_type": "display_data"
    }
   ],
   "source": [
    "# class balance: barplot\n",
    "sns.countplot(simulation.y)\n",
    "plt.title('Bar plot of Target variable (FPR)', fontsize=16)\n",
    "plt.xlabel('Class')\n",
    "plt.ylabel('Frequency')\n",
    "plt.savefig('figures/class_balance.png')"
   ]
  },
  {
   "cell_type": "markdown",
   "metadata": {},
   "source": [
    "Based on class distribution we can conclude that classes are imbalanced. So we will combine `0.5` and `1.0` classes into one class. Now, we have binary classification problem."
   ]
  },
  {
   "cell_type": "code",
   "execution_count": null,
   "metadata": {
    "collapsed": true
   },
   "outputs": [],
   "source": []
  },
  {
   "cell_type": "markdown",
   "metadata": {
    "collapsed": true
   },
   "source": [
    "### Convert Multi-class into Binary"
   ]
  },
  {
   "cell_type": "code",
   "execution_count": 4,
   "metadata": {
    "collapsed": true
   },
   "outputs": [],
   "source": [
    "# convert target variable into binary class\n",
    "simulation['y'] = simulation.y.apply(lambda x: 1.0 if x == 0.5 else x)"
   ]
  },
  {
   "cell_type": "code",
   "execution_count": 8,
   "metadata": {},
   "outputs": [
    {
     "data": {
      "text/plain": [
       "0.0    55.206085\n",
       "1.0    44.793915\n",
       "Name: y, dtype: float64"
      ]
     },
     "execution_count": 8,
     "metadata": {},
     "output_type": "execute_result"
    }
   ],
   "source": [
    "# class balance\n",
    "simulation.y.value_counts(normalize=True) * 100"
   ]
  },
  {
   "cell_type": "code",
   "execution_count": null,
   "metadata": {
    "collapsed": true
   },
   "outputs": [],
   "source": []
  },
  {
   "cell_type": "code",
   "execution_count": 5,
   "metadata": {
    "collapsed": true
   },
   "outputs": [],
   "source": [
    "# get column names for predictor variables\n",
    "predictor_columns = [\n",
    "    'len', \n",
    "    'distance_source', \n",
    "    'snr', \n",
    "    'depth_1', \n",
    "    'depth_2', \n",
    "    'localization_source', \n",
    "    'connectivity_estimate'\n",
    "]"
   ]
  },
  {
   "cell_type": "code",
   "execution_count": null,
   "metadata": {
    "collapsed": true
   },
   "outputs": [],
   "source": []
  },
  {
   "cell_type": "code",
   "execution_count": null,
   "metadata": {
    "collapsed": true
   },
   "outputs": [],
   "source": []
  },
  {
   "cell_type": "markdown",
   "metadata": {},
   "source": [
    "# Feature Selection"
   ]
  },
  {
   "cell_type": "markdown",
   "metadata": {},
   "source": [
    "## Univariate selection\n",
    "Statistical tests can be used to select those features that have the strongest relationships with the output variable.\n",
    "\n",
    "The scikit-learn library provides the SelectKBest class, which can be used with a suite of different statistical tests to select a specific number of features.\n",
    "\n",
    "The following example uses the chi squared (chi^2) statistical test for non-negative features."
   ]
  },
  {
   "cell_type": "code",
   "execution_count": 8,
   "metadata": {
    "collapsed": true
   },
   "outputs": [],
   "source": []
  },
  {
   "cell_type": "code",
   "execution_count": 6,
   "metadata": {
    "collapsed": true
   },
   "outputs": [],
   "source": [
    "# convert continuous values into labels\n",
    "le = LabelEncoder()\n",
    "y = le.fit_transform(simulation.y.values)\n",
    "\n",
    "# predictor variables\n",
    "X = simulation.loc[:, predictor_columns]"
   ]
  },
  {
   "cell_type": "markdown",
   "metadata": {},
   "source": [
    "These objects take as input a scoring function that returns univariate scores and p-values (or only scores for SelectKBest and SelectPercentile):\n",
    "\n",
    "* For regression: `f_regression`, `mutual_info_regression`\n",
    "* For classification: `chi2`, `f_classif`, `mutual_info_classif`"
   ]
  },
  {
   "cell_type": "code",
   "execution_count": null,
   "metadata": {
    "collapsed": true
   },
   "outputs": [],
   "source": []
  },
  {
   "cell_type": "code",
   "execution_count": 7,
   "metadata": {},
   "outputs": [
    {
     "name": "stderr",
     "output_type": "stream",
     "text": [
      "C:\\Users\\Toghrul\\Anaconda3\\lib\\site-packages\\sklearn\\utils\\__init__.py:54: FutureWarning: Conversion of the second argument of issubdtype from `int` to `np.signedinteger` is deprecated. In future, it will be treated as `np.int32 == np.dtype(int).type`.\n",
      "  if np.issubdtype(mask.dtype, np.int):\n"
     ]
    }
   ],
   "source": [
    "# `mutual info classif`\n",
    "feat_mutual = univariate_selection(score_func=mutual_info_classif, k=5, X=X, y=y, names=predictor_columns)\n",
    "\n",
    "# `chi2`\n",
    "feat_chi2 = univariate_selection(score_func=chi2, k=5, X=X, y=y, names=predictor_columns)\n",
    "\n",
    "# `f classif`\n",
    "feat_fclassif = univariate_selection(score_func=f_classif, k=5, X=X, y=y, names=predictor_columns)"
   ]
  },
  {
   "cell_type": "code",
   "execution_count": null,
   "metadata": {
    "collapsed": true
   },
   "outputs": [],
   "source": []
  },
  {
   "cell_type": "markdown",
   "metadata": {},
   "source": [
    "## Feature importance for different `statistics`"
   ]
  },
  {
   "cell_type": "code",
   "execution_count": 8,
   "metadata": {},
   "outputs": [
    {
     "data": {
      "text/html": [
       "<div>\n",
       "<style>\n",
       "    .dataframe thead tr:only-child th {\n",
       "        text-align: right;\n",
       "    }\n",
       "\n",
       "    .dataframe thead th {\n",
       "        text-align: left;\n",
       "    }\n",
       "\n",
       "    .dataframe tbody tr th {\n",
       "        vertical-align: top;\n",
       "    }\n",
       "</style>\n",
       "<table border=\"1\" class=\"dataframe\">\n",
       "  <thead>\n",
       "    <tr style=\"text-align: right;\">\n",
       "      <th></th>\n",
       "      <th>Feat_names</th>\n",
       "      <th>Scores</th>\n",
       "    </tr>\n",
       "  </thead>\n",
       "  <tbody>\n",
       "    <tr>\n",
       "      <th>0</th>\n",
       "      <td>len</td>\n",
       "      <td>745281.173829</td>\n",
       "    </tr>\n",
       "    <tr>\n",
       "      <th>4</th>\n",
       "      <td>depth_2</td>\n",
       "      <td>482544.220398</td>\n",
       "    </tr>\n",
       "    <tr>\n",
       "      <th>2</th>\n",
       "      <td>snr</td>\n",
       "      <td>453158.102499</td>\n",
       "    </tr>\n",
       "    <tr>\n",
       "      <th>1</th>\n",
       "      <td>distance_source</td>\n",
       "      <td>441112.052133</td>\n",
       "    </tr>\n",
       "    <tr>\n",
       "      <th>3</th>\n",
       "      <td>depth_1</td>\n",
       "      <td>49390.580301</td>\n",
       "    </tr>\n",
       "  </tbody>\n",
       "</table>\n",
       "</div>"
      ],
      "text/plain": [
       "        Feat_names         Scores\n",
       "0              len  745281.173829\n",
       "4          depth_2  482544.220398\n",
       "2              snr  453158.102499\n",
       "1  distance_source  441112.052133\n",
       "3          depth_1   49390.580301"
      ]
     },
     "execution_count": 8,
     "metadata": {},
     "output_type": "execute_result"
    }
   ],
   "source": [
    "# chi-squared statistics\n",
    "feat_chi2"
   ]
  },
  {
   "cell_type": "code",
   "execution_count": 9,
   "metadata": {},
   "outputs": [
    {
     "data": {
      "text/html": [
       "<div>\n",
       "<style>\n",
       "    .dataframe thead tr:only-child th {\n",
       "        text-align: right;\n",
       "    }\n",
       "\n",
       "    .dataframe thead th {\n",
       "        text-align: left;\n",
       "    }\n",
       "\n",
       "    .dataframe tbody tr th {\n",
       "        vertical-align: top;\n",
       "    }\n",
       "</style>\n",
       "<table border=\"1\" class=\"dataframe\">\n",
       "  <thead>\n",
       "    <tr style=\"text-align: right;\">\n",
       "      <th></th>\n",
       "      <th>Feat_names</th>\n",
       "      <th>Scores</th>\n",
       "    </tr>\n",
       "  </thead>\n",
       "  <tbody>\n",
       "    <tr>\n",
       "      <th>0</th>\n",
       "      <td>len</td>\n",
       "      <td>745281.173829</td>\n",
       "    </tr>\n",
       "    <tr>\n",
       "      <th>4</th>\n",
       "      <td>depth_2</td>\n",
       "      <td>482544.220398</td>\n",
       "    </tr>\n",
       "    <tr>\n",
       "      <th>2</th>\n",
       "      <td>snr</td>\n",
       "      <td>453158.102499</td>\n",
       "    </tr>\n",
       "    <tr>\n",
       "      <th>1</th>\n",
       "      <td>distance_source</td>\n",
       "      <td>441112.052133</td>\n",
       "    </tr>\n",
       "    <tr>\n",
       "      <th>3</th>\n",
       "      <td>depth_1</td>\n",
       "      <td>49390.580301</td>\n",
       "    </tr>\n",
       "  </tbody>\n",
       "</table>\n",
       "</div>"
      ],
      "text/plain": [
       "        Feat_names         Scores\n",
       "0              len  745281.173829\n",
       "4          depth_2  482544.220398\n",
       "2              snr  453158.102499\n",
       "1  distance_source  441112.052133\n",
       "3          depth_1   49390.580301"
      ]
     },
     "execution_count": 9,
     "metadata": {},
     "output_type": "execute_result"
    }
   ],
   "source": [
    "# ANOVA f-value\n",
    "feat_fclassif"
   ]
  },
  {
   "cell_type": "code",
   "execution_count": 10,
   "metadata": {},
   "outputs": [
    {
     "data": {
      "text/html": [
       "<div>\n",
       "<style>\n",
       "    .dataframe thead tr:only-child th {\n",
       "        text-align: right;\n",
       "    }\n",
       "\n",
       "    .dataframe thead th {\n",
       "        text-align: left;\n",
       "    }\n",
       "\n",
       "    .dataframe tbody tr th {\n",
       "        vertical-align: top;\n",
       "    }\n",
       "</style>\n",
       "<table border=\"1\" class=\"dataframe\">\n",
       "  <thead>\n",
       "    <tr style=\"text-align: right;\">\n",
       "      <th></th>\n",
       "      <th>Feat_names</th>\n",
       "      <th>Scores</th>\n",
       "    </tr>\n",
       "  </thead>\n",
       "  <tbody>\n",
       "    <tr>\n",
       "      <th>0</th>\n",
       "      <td>len</td>\n",
       "      <td>745281.173829</td>\n",
       "    </tr>\n",
       "    <tr>\n",
       "      <th>4</th>\n",
       "      <td>depth_2</td>\n",
       "      <td>482544.220398</td>\n",
       "    </tr>\n",
       "    <tr>\n",
       "      <th>2</th>\n",
       "      <td>snr</td>\n",
       "      <td>453158.102499</td>\n",
       "    </tr>\n",
       "    <tr>\n",
       "      <th>1</th>\n",
       "      <td>distance_source</td>\n",
       "      <td>441112.052133</td>\n",
       "    </tr>\n",
       "    <tr>\n",
       "      <th>3</th>\n",
       "      <td>depth_1</td>\n",
       "      <td>49390.580301</td>\n",
       "    </tr>\n",
       "  </tbody>\n",
       "</table>\n",
       "</div>"
      ],
      "text/plain": [
       "        Feat_names         Scores\n",
       "0              len  745281.173829\n",
       "4          depth_2  482544.220398\n",
       "2              snr  453158.102499\n",
       "1  distance_source  441112.052133\n",
       "3          depth_1   49390.580301"
      ]
     },
     "execution_count": 10,
     "metadata": {},
     "output_type": "execute_result"
    }
   ],
   "source": [
    "# mutual information\n",
    "feat_mutual"
   ]
  },
  {
   "cell_type": "code",
   "execution_count": null,
   "metadata": {
    "collapsed": true
   },
   "outputs": [],
   "source": []
  },
  {
   "cell_type": "markdown",
   "metadata": {},
   "source": [
    "### Post processing for data"
   ]
  },
  {
   "cell_type": "code",
   "execution_count": 11,
   "metadata": {
    "scrolled": true
   },
   "outputs": [
    {
     "data": {
      "text/plain": [
       "205"
      ]
     },
     "execution_count": 11,
     "metadata": {},
     "output_type": "execute_result"
    }
   ],
   "source": [
    "# remove X and y in order to free some space\n",
    "del X\n",
    "del y\n",
    "gc.collect()"
   ]
  },
  {
   "cell_type": "code",
   "execution_count": null,
   "metadata": {
    "collapsed": true
   },
   "outputs": [],
   "source": []
  },
  {
   "cell_type": "markdown",
   "metadata": {},
   "source": [
    "## Scalling and Partitioning dataset"
   ]
  },
  {
   "cell_type": "code",
   "execution_count": 12,
   "metadata": {
    "collapsed": true
   },
   "outputs": [],
   "source": [
    "# partition dataset into tran / test sets\n",
    "# number of test observations\n",
    "total_rows = simulation.shape[0]\n",
    "test_rows = int(total_rows * 0.25)\n",
    "\n",
    "# randomly sample test index out of total rows\n",
    "test_index = list(np.random.choice(range(total_rows), test_rows, replace=False))"
   ]
  },
  {
   "cell_type": "code",
   "execution_count": 13,
   "metadata": {
    "collapsed": true
   },
   "outputs": [],
   "source": [
    "# Partition dataset\n",
    "X_train = simulation.query('id not in @test_index').loc[:, predictor_columns].values\n",
    "y_train = simulation.query('id not in @test_index').loc[:, 'y'].values\n",
    "\n",
    "X_test = simulation.query('id in @test_index').loc[:, predictor_columns].values\n",
    "y_test = simulation.query('id in @test_index').loc[:, 'y'].values"
   ]
  },
  {
   "cell_type": "code",
   "execution_count": 14,
   "metadata": {},
   "outputs": [
    {
     "name": "stdout",
     "output_type": "stream",
     "text": [
      "Train dimension :  (15002464, 7)\n",
      "Test dimension :  (4997536, 7)\n"
     ]
    }
   ],
   "source": [
    "# dimension of the train / test datasets\n",
    "print('Train dimension : ', X_train.shape)\n",
    "print('Test dimension : ', X_test.shape)"
   ]
  },
  {
   "cell_type": "code",
   "execution_count": null,
   "metadata": {
    "collapsed": true
   },
   "outputs": [],
   "source": []
  },
  {
   "cell_type": "code",
   "execution_count": null,
   "metadata": {
    "collapsed": true
   },
   "outputs": [],
   "source": []
  },
  {
   "cell_type": "markdown",
   "metadata": {},
   "source": [
    "## Feature Importance\n",
    "\n",
    "In this part, we will perform `Light GBM` model to get feature importance."
   ]
  },
  {
   "cell_type": "markdown",
   "metadata": {
    "collapsed": true
   },
   "source": [
    "# `LightGBM`"
   ]
  },
  {
   "cell_type": "markdown",
   "metadata": {},
   "source": [
    "### Hyper parameter tuning"
   ]
  },
  {
   "cell_type": "code",
   "execution_count": null,
   "metadata": {
    "collapsed": true
   },
   "outputs": [],
   "source": []
  },
  {
   "cell_type": "code",
   "execution_count": 15,
   "metadata": {
    "scrolled": true
   },
   "outputs": [
    {
     "data": {
      "text/plain": [
       "GridSearchCV(cv=3, error_score='raise',\n",
       "       estimator=LGBMClassifier(boosting_type='gbdt', class_weight=None, colsample_bytree=1.0,\n",
       "        learning_rate=0.1, max_depth=-1, min_child_samples=20,\n",
       "        min_child_weight=0.001, min_split_gain=0.0, n_estimators=50,\n",
       "        n_jobs=-1, num_leaves=31, objective='binary', random_state=1,\n",
       "        reg_alpha=0.0, reg_lambda=0.0, silent=True, subsample=1.0,\n",
       "        subsample_for_bin=200000, subsample_freq=1),\n",
       "       fit_params={}, iid=True, n_jobs=-1,\n",
       "       param_grid={'num_leaves': [20, 30], 'learning_rate': [0.01, 0.1], 'max_depth': [4, 5, 6]},\n",
       "       pre_dispatch='2*n_jobs', refit=True, return_train_score=True,\n",
       "       scoring='roc_auc', verbose=0)"
      ]
     },
     "execution_count": 15,
     "metadata": {},
     "output_type": "execute_result"
    }
   ],
   "source": [
    "# initialize the Grid search\n",
    "grid = GridSearchCV(\n",
    "    estimator=lgb.LGBMClassifier(n_estimators=50, objective='binary', random_state=1),\n",
    "    param_grid={\n",
    "        'num_leaves': [20, 30],\n",
    "        'learning_rate': [0.01, 0.1],\n",
    "        'max_depth': [4, 5, 6]\n",
    "    },\n",
    "    n_jobs=-1,\n",
    "    cv=3,\n",
    "    scoring='roc_auc'\n",
    ")\n",
    "\n",
    "# run grid search\n",
    "grid.fit(\n",
    "    simulation.sample(frac=0.25).loc[:, predictor_columns].values, \n",
    "    simulation.sample(frac=0.25).loc[:, 'y'].values\n",
    ")"
   ]
  },
  {
   "cell_type": "code",
   "execution_count": 16,
   "metadata": {},
   "outputs": [
    {
     "name": "stdout",
     "output_type": "stream",
     "text": [
      "Best parameters :  {'learning_rate': 0.1, 'max_depth': 6, 'num_leaves': 30}\n",
      "Best score : 0.500\n"
     ]
    }
   ],
   "source": [
    "# best parameters after grid search\n",
    "print('Best parameters : ', grid.best_params_)\n",
    "print('Best score : %.3f' % grid.best_score_)"
   ]
  },
  {
   "cell_type": "code",
   "execution_count": null,
   "metadata": {
    "collapsed": true
   },
   "outputs": [],
   "source": []
  },
  {
   "cell_type": "markdown",
   "metadata": {},
   "source": [
    "### Run `Light GBM` by using best parameters"
   ]
  },
  {
   "cell_type": "code",
   "execution_count": 19,
   "metadata": {
    "scrolled": true
   },
   "outputs": [
    {
     "name": "stdout",
     "output_type": "stream",
     "text": [
      "[1]\tvalid_0's binary_logloss: 0.681503\n",
      "Training until validation scores don't improve for 5 rounds.\n",
      "[2]\tvalid_0's binary_logloss: 0.671939\n",
      "[3]\tvalid_0's binary_logloss: 0.663861\n",
      "[4]\tvalid_0's binary_logloss: 0.657053\n",
      "[5]\tvalid_0's binary_logloss: 0.651288\n",
      "[6]\tvalid_0's binary_logloss: 0.646424\n",
      "[7]\tvalid_0's binary_logloss: 0.642175\n",
      "[8]\tvalid_0's binary_logloss: 0.638521\n",
      "[9]\tvalid_0's binary_logloss: 0.63542\n",
      "[10]\tvalid_0's binary_logloss: 0.6326\n",
      "[11]\tvalid_0's binary_logloss: 0.630094\n",
      "[12]\tvalid_0's binary_logloss: 0.627977\n",
      "[13]\tvalid_0's binary_logloss: 0.626182\n",
      "[14]\tvalid_0's binary_logloss: 0.624462\n",
      "[15]\tvalid_0's binary_logloss: 0.623041\n",
      "[16]\tvalid_0's binary_logloss: 0.621761\n",
      "[17]\tvalid_0's binary_logloss: 0.62065\n",
      "[18]\tvalid_0's binary_logloss: 0.619627\n",
      "[19]\tvalid_0's binary_logloss: 0.618672\n",
      "[20]\tvalid_0's binary_logloss: 0.617841\n",
      "[21]\tvalid_0's binary_logloss: 0.617174\n",
      "[22]\tvalid_0's binary_logloss: 0.616521\n",
      "[23]\tvalid_0's binary_logloss: 0.615876\n",
      "[24]\tvalid_0's binary_logloss: 0.615356\n",
      "[25]\tvalid_0's binary_logloss: 0.614907\n",
      "[26]\tvalid_0's binary_logloss: 0.614522\n",
      "[27]\tvalid_0's binary_logloss: 0.614022\n",
      "[28]\tvalid_0's binary_logloss: 0.613682\n",
      "[29]\tvalid_0's binary_logloss: 0.6134\n",
      "[30]\tvalid_0's binary_logloss: 0.613031\n",
      "[31]\tvalid_0's binary_logloss: 0.612755\n",
      "[32]\tvalid_0's binary_logloss: 0.612473\n",
      "[33]\tvalid_0's binary_logloss: 0.612232\n",
      "[34]\tvalid_0's binary_logloss: 0.612043\n",
      "[35]\tvalid_0's binary_logloss: 0.611771\n",
      "[36]\tvalid_0's binary_logloss: 0.611619\n",
      "[37]\tvalid_0's binary_logloss: 0.611455\n",
      "[38]\tvalid_0's binary_logloss: 0.61123\n",
      "[39]\tvalid_0's binary_logloss: 0.611121\n",
      "[40]\tvalid_0's binary_logloss: 0.610934\n",
      "[41]\tvalid_0's binary_logloss: 0.610788\n",
      "[42]\tvalid_0's binary_logloss: 0.610683\n",
      "[43]\tvalid_0's binary_logloss: 0.610545\n",
      "[44]\tvalid_0's binary_logloss: 0.610464\n",
      "[45]\tvalid_0's binary_logloss: 0.610348\n",
      "[46]\tvalid_0's binary_logloss: 0.610274\n",
      "[47]\tvalid_0's binary_logloss: 0.610165\n",
      "[48]\tvalid_0's binary_logloss: 0.610042\n",
      "[49]\tvalid_0's binary_logloss: 0.609985\n",
      "[50]\tvalid_0's binary_logloss: 0.60989\n",
      "[51]\tvalid_0's binary_logloss: 0.609798\n",
      "[52]\tvalid_0's binary_logloss: 0.609745\n",
      "[53]\tvalid_0's binary_logloss: 0.609669\n",
      "[54]\tvalid_0's binary_logloss: 0.60961\n",
      "[55]\tvalid_0's binary_logloss: 0.609524\n",
      "[56]\tvalid_0's binary_logloss: 0.609476\n",
      "[57]\tvalid_0's binary_logloss: 0.609428\n",
      "[58]\tvalid_0's binary_logloss: 0.60937\n",
      "[59]\tvalid_0's binary_logloss: 0.609339\n",
      "[60]\tvalid_0's binary_logloss: 0.609283\n",
      "[61]\tvalid_0's binary_logloss: 0.609259\n",
      "[62]\tvalid_0's binary_logloss: 0.609236\n",
      "[63]\tvalid_0's binary_logloss: 0.609201\n",
      "[64]\tvalid_0's binary_logloss: 0.60916\n",
      "[65]\tvalid_0's binary_logloss: 0.60911\n",
      "[66]\tvalid_0's binary_logloss: 0.609022\n",
      "[67]\tvalid_0's binary_logloss: 0.608995\n",
      "[68]\tvalid_0's binary_logloss: 0.608957\n",
      "[69]\tvalid_0's binary_logloss: 0.608911\n",
      "[70]\tvalid_0's binary_logloss: 0.608887\n",
      "[71]\tvalid_0's binary_logloss: 0.608854\n",
      "[72]\tvalid_0's binary_logloss: 0.608815\n",
      "[73]\tvalid_0's binary_logloss: 0.608789\n",
      "[74]\tvalid_0's binary_logloss: 0.60875\n",
      "[75]\tvalid_0's binary_logloss: 0.608732\n",
      "[76]\tvalid_0's binary_logloss: 0.608718\n",
      "[77]\tvalid_0's binary_logloss: 0.608664\n",
      "[78]\tvalid_0's binary_logloss: 0.608644\n",
      "[79]\tvalid_0's binary_logloss: 0.608603\n",
      "[80]\tvalid_0's binary_logloss: 0.60853\n",
      "[81]\tvalid_0's binary_logloss: 0.608491\n",
      "[82]\tvalid_0's binary_logloss: 0.608453\n",
      "[83]\tvalid_0's binary_logloss: 0.608421\n",
      "[84]\tvalid_0's binary_logloss: 0.608403\n",
      "[85]\tvalid_0's binary_logloss: 0.60838\n",
      "[86]\tvalid_0's binary_logloss: 0.608374\n",
      "[87]\tvalid_0's binary_logloss: 0.608322\n",
      "[88]\tvalid_0's binary_logloss: 0.6083\n",
      "[89]\tvalid_0's binary_logloss: 0.608291\n",
      "[90]\tvalid_0's binary_logloss: 0.608245\n",
      "[91]\tvalid_0's binary_logloss: 0.608228\n",
      "[92]\tvalid_0's binary_logloss: 0.608192\n",
      "[93]\tvalid_0's binary_logloss: 0.608135\n",
      "[94]\tvalid_0's binary_logloss: 0.608119\n",
      "[95]\tvalid_0's binary_logloss: 0.60809\n",
      "[96]\tvalid_0's binary_logloss: 0.608041\n",
      "[97]\tvalid_0's binary_logloss: 0.608033\n",
      "[98]\tvalid_0's binary_logloss: 0.608021\n",
      "[99]\tvalid_0's binary_logloss: 0.60801\n",
      "[100]\tvalid_0's binary_logloss: 0.607987\n",
      "[101]\tvalid_0's binary_logloss: 0.607981\n",
      "[102]\tvalid_0's binary_logloss: 0.607974\n",
      "[103]\tvalid_0's binary_logloss: 0.607956\n",
      "[104]\tvalid_0's binary_logloss: 0.607948\n",
      "[105]\tvalid_0's binary_logloss: 0.607903\n",
      "[106]\tvalid_0's binary_logloss: 0.607885\n",
      "[107]\tvalid_0's binary_logloss: 0.607858\n",
      "[108]\tvalid_0's binary_logloss: 0.607826\n",
      "[109]\tvalid_0's binary_logloss: 0.607816\n",
      "[110]\tvalid_0's binary_logloss: 0.607782\n",
      "[111]\tvalid_0's binary_logloss: 0.607769\n",
      "[112]\tvalid_0's binary_logloss: 0.607753\n",
      "[113]\tvalid_0's binary_logloss: 0.607746\n",
      "[114]\tvalid_0's binary_logloss: 0.607725\n",
      "[115]\tvalid_0's binary_logloss: 0.60771\n",
      "[116]\tvalid_0's binary_logloss: 0.6077\n",
      "[117]\tvalid_0's binary_logloss: 0.607681\n",
      "[118]\tvalid_0's binary_logloss: 0.607675\n",
      "[119]\tvalid_0's binary_logloss: 0.607634\n",
      "[120]\tvalid_0's binary_logloss: 0.607625\n",
      "[121]\tvalid_0's binary_logloss: 0.607598\n",
      "[122]\tvalid_0's binary_logloss: 0.607585\n",
      "[123]\tvalid_0's binary_logloss: 0.607539\n",
      "[124]\tvalid_0's binary_logloss: 0.607532\n",
      "[125]\tvalid_0's binary_logloss: 0.607512\n",
      "[126]\tvalid_0's binary_logloss: 0.607497\n",
      "[127]\tvalid_0's binary_logloss: 0.607459\n",
      "[128]\tvalid_0's binary_logloss: 0.607425\n",
      "[129]\tvalid_0's binary_logloss: 0.607423\n",
      "[130]\tvalid_0's binary_logloss: 0.60742\n",
      "[131]\tvalid_0's binary_logloss: 0.607409\n",
      "[132]\tvalid_0's binary_logloss: 0.607402\n",
      "[133]\tvalid_0's binary_logloss: 0.607393\n",
      "[134]\tvalid_0's binary_logloss: 0.607378\n",
      "[135]\tvalid_0's binary_logloss: 0.607367\n",
      "[136]\tvalid_0's binary_logloss: 0.607341\n",
      "[137]\tvalid_0's binary_logloss: 0.607319\n",
      "[138]\tvalid_0's binary_logloss: 0.607294\n",
      "[139]\tvalid_0's binary_logloss: 0.60729\n",
      "[140]\tvalid_0's binary_logloss: 0.607284\n",
      "[141]\tvalid_0's binary_logloss: 0.607277\n",
      "[142]\tvalid_0's binary_logloss: 0.60725\n",
      "[143]\tvalid_0's binary_logloss: 0.607225\n",
      "[144]\tvalid_0's binary_logloss: 0.607217\n",
      "[145]\tvalid_0's binary_logloss: 0.607207\n",
      "[146]\tvalid_0's binary_logloss: 0.607201\n",
      "[147]\tvalid_0's binary_logloss: 0.607182\n",
      "[148]\tvalid_0's binary_logloss: 0.607177\n",
      "[149]\tvalid_0's binary_logloss: 0.607146\n",
      "[150]\tvalid_0's binary_logloss: 0.607132\n",
      "[151]\tvalid_0's binary_logloss: 0.607121\n",
      "[152]\tvalid_0's binary_logloss: 0.607104\n",
      "[153]\tvalid_0's binary_logloss: 0.60708\n",
      "[154]\tvalid_0's binary_logloss: 0.607063\n",
      "[155]\tvalid_0's binary_logloss: 0.607042\n",
      "[156]\tvalid_0's binary_logloss: 0.607033\n",
      "[157]\tvalid_0's binary_logloss: 0.607021\n",
      "[158]\tvalid_0's binary_logloss: 0.607011\n",
      "[159]\tvalid_0's binary_logloss: 0.607006\n",
      "[160]\tvalid_0's binary_logloss: 0.607002\n",
      "[161]\tvalid_0's binary_logloss: 0.607001\n",
      "[162]\tvalid_0's binary_logloss: 0.606981\n",
      "[163]\tvalid_0's binary_logloss: 0.606966\n",
      "[164]\tvalid_0's binary_logloss: 0.606954\n",
      "[165]\tvalid_0's binary_logloss: 0.606952\n",
      "[166]\tvalid_0's binary_logloss: 0.606938\n",
      "[167]\tvalid_0's binary_logloss: 0.60692\n",
      "[168]\tvalid_0's binary_logloss: 0.606905\n",
      "[169]\tvalid_0's binary_logloss: 0.606899\n",
      "[170]\tvalid_0's binary_logloss: 0.606896\n",
      "[171]\tvalid_0's binary_logloss: 0.606895\n",
      "[172]\tvalid_0's binary_logloss: 0.606886\n",
      "[173]\tvalid_0's binary_logloss: 0.606884\n",
      "[174]\tvalid_0's binary_logloss: 0.606875\n",
      "[175]\tvalid_0's binary_logloss: 0.606855\n",
      "[176]\tvalid_0's binary_logloss: 0.606854\n",
      "[177]\tvalid_0's binary_logloss: 0.606851\n",
      "[178]\tvalid_0's binary_logloss: 0.606842\n",
      "[179]\tvalid_0's binary_logloss: 0.606834\n",
      "[180]\tvalid_0's binary_logloss: 0.606831\n",
      "[181]\tvalid_0's binary_logloss: 0.606828\n",
      "[182]\tvalid_0's binary_logloss: 0.606823\n",
      "[183]\tvalid_0's binary_logloss: 0.606813\n",
      "[184]\tvalid_0's binary_logloss: 0.606806\n",
      "[185]\tvalid_0's binary_logloss: 0.606796\n",
      "[186]\tvalid_0's binary_logloss: 0.606796\n",
      "[187]\tvalid_0's binary_logloss: 0.60679\n",
      "[188]\tvalid_0's binary_logloss: 0.606787\n",
      "[189]\tvalid_0's binary_logloss: 0.606784\n",
      "[190]\tvalid_0's binary_logloss: 0.60678\n",
      "[191]\tvalid_0's binary_logloss: 0.606763\n",
      "[192]\tvalid_0's binary_logloss: 0.606748\n",
      "[193]\tvalid_0's binary_logloss: 0.606722\n",
      "[194]\tvalid_0's binary_logloss: 0.606718\n",
      "[195]\tvalid_0's binary_logloss: 0.606713\n",
      "[196]\tvalid_0's binary_logloss: 0.606699\n",
      "[197]\tvalid_0's binary_logloss: 0.606687\n",
      "[198]\tvalid_0's binary_logloss: 0.606681\n",
      "[199]\tvalid_0's binary_logloss: 0.606672\n",
      "[200]\tvalid_0's binary_logloss: 0.60667\n",
      "Did not meet early stopping. Best iteration is:\n",
      "[200]\tvalid_0's binary_logloss: 0.60667\n"
     ]
    },
    {
     "data": {
      "text/plain": [
       "LGBMClassifier(boosting_type='gbdt', class_weight=None, colsample_bytree=1.0,\n",
       "        learning_rate=0.1, max_depth=6, min_child_samples=20,\n",
       "        min_child_weight=0.001, min_split_gain=0.0, n_estimators=200,\n",
       "        n_jobs=-1, num_leaves=30, objective='binary', random_state=1,\n",
       "        reg_alpha=0.0, reg_lambda=0.0, silent=True, subsample=1.0,\n",
       "        subsample_for_bin=200000, subsample_freq=1)"
      ]
     },
     "execution_count": 19,
     "metadata": {},
     "output_type": "execute_result"
    }
   ],
   "source": [
    "# Train\n",
    "gbm = lgb.LGBMClassifier(\n",
    "    objective='binary',\n",
    "    num_leaves=30,\n",
    "    max_depth=6,\n",
    "    learning_rate=0.1,\n",
    "    n_estimators=200,\n",
    "    random_state=1\n",
    ")\n",
    "\n",
    "gbm.fit(\n",
    "    X_train,\n",
    "    y_train,\n",
    "    eval_set=[(X_test, y_test)],\n",
    "    eval_metric='logloss',\n",
    "    early_stopping_rounds=5\n",
    ")"
   ]
  },
  {
   "cell_type": "markdown",
   "metadata": {
    "collapsed": true
   },
   "source": [
    "The feature importances (the higher, the more important the feature)."
   ]
  },
  {
   "cell_type": "code",
   "execution_count": 20,
   "metadata": {},
   "outputs": [
    {
     "data": {
      "text/html": [
       "<div>\n",
       "<style>\n",
       "    .dataframe thead tr:only-child th {\n",
       "        text-align: right;\n",
       "    }\n",
       "\n",
       "    .dataframe thead th {\n",
       "        text-align: left;\n",
       "    }\n",
       "\n",
       "    .dataframe tbody tr th {\n",
       "        vertical-align: top;\n",
       "    }\n",
       "</style>\n",
       "<table border=\"1\" class=\"dataframe\">\n",
       "  <thead>\n",
       "    <tr style=\"text-align: right;\">\n",
       "      <th></th>\n",
       "      <th>Feat_names</th>\n",
       "      <th>Importance</th>\n",
       "    </tr>\n",
       "  </thead>\n",
       "  <tbody>\n",
       "    <tr>\n",
       "      <th>3</th>\n",
       "      <td>depth_1</td>\n",
       "      <td>1801</td>\n",
       "    </tr>\n",
       "    <tr>\n",
       "      <th>1</th>\n",
       "      <td>distance_source</td>\n",
       "      <td>933</td>\n",
       "    </tr>\n",
       "    <tr>\n",
       "      <th>5</th>\n",
       "      <td>localization_source</td>\n",
       "      <td>721</td>\n",
       "    </tr>\n",
       "    <tr>\n",
       "      <th>0</th>\n",
       "      <td>len</td>\n",
       "      <td>663</td>\n",
       "    </tr>\n",
       "    <tr>\n",
       "      <th>4</th>\n",
       "      <td>depth_2</td>\n",
       "      <td>652</td>\n",
       "    </tr>\n",
       "    <tr>\n",
       "      <th>2</th>\n",
       "      <td>snr</td>\n",
       "      <td>627</td>\n",
       "    </tr>\n",
       "    <tr>\n",
       "      <th>6</th>\n",
       "      <td>connectivity_estimate</td>\n",
       "      <td>403</td>\n",
       "    </tr>\n",
       "  </tbody>\n",
       "</table>\n",
       "</div>"
      ],
      "text/plain": [
       "              Feat_names  Importance\n",
       "3                depth_1        1801\n",
       "1        distance_source         933\n",
       "5    localization_source         721\n",
       "0                    len         663\n",
       "4                depth_2         652\n",
       "2                    snr         627\n",
       "6  connectivity_estimate         403"
      ]
     },
     "execution_count": 20,
     "metadata": {},
     "output_type": "execute_result"
    }
   ],
   "source": [
    "# feature importance for Light GBM\n",
    "feat_import = list(zip(predictor_columns, list(gbm.feature_importances_)))\n",
    "ns_df = pd.DataFrame(data = feat_import, columns=['Feat_names', 'Importance'])\n",
    "ns_df_sorted = ns_df.sort_values(['Importance', 'Feat_names'], ascending = [False, True])\n",
    "\n",
    "ns_df_sorted"
   ]
  },
  {
   "cell_type": "markdown",
   "metadata": {},
   "source": [
    "We can observe that `distance source` and `localization source` are the top 3 important features, which are categorical."
   ]
  },
  {
   "cell_type": "code",
   "execution_count": null,
   "metadata": {
    "collapsed": true
   },
   "outputs": [],
   "source": []
  },
  {
   "cell_type": "code",
   "execution_count": null,
   "metadata": {
    "collapsed": true
   },
   "outputs": [],
   "source": []
  },
  {
   "cell_type": "markdown",
   "metadata": {},
   "source": [
    "## Recursive Feature Elimination (`RFE`)"
   ]
  },
  {
   "cell_type": "code",
   "execution_count": 23,
   "metadata": {
    "collapsed": true
   },
   "outputs": [],
   "source": [
    "from sklearn.feature_selection import RFE"
   ]
  },
  {
   "cell_type": "code",
   "execution_count": 24,
   "metadata": {
    "collapsed": true
   },
   "outputs": [],
   "source": [
    "# Light GBM initial parameters\n",
    "gbm_rfe = lgb.LGBMClassifier(\n",
    "    objective='binary',\n",
    "    num_leaves=30,\n",
    "    max_depth=6,\n",
    "    learning_rate=0.1,\n",
    "    n_estimators=50,\n",
    "    random_state=1\n",
    ")"
   ]
  },
  {
   "cell_type": "code",
   "execution_count": null,
   "metadata": {
    "collapsed": true
   },
   "outputs": [],
   "source": []
  },
  {
   "cell_type": "code",
   "execution_count": 26,
   "metadata": {
    "scrolled": true
   },
   "outputs": [
    {
     "data": {
      "text/plain": [
       "RFE(estimator=LGBMClassifier(boosting_type='gbdt', class_weight=None, colsample_bytree=1.0,\n",
       "        learning_rate=0.1, max_depth=6, min_child_samples=20,\n",
       "        min_child_weight=0.001, min_split_gain=0.0, n_estimators=50,\n",
       "        n_jobs=-1, num_leaves=30, objective='binary', random_state=1,\n",
       "        reg_alpha=0.0, reg_lambda=0.0, silent=True, subsample=1.0,\n",
       "        subsample_for_bin=200000, subsample_freq=1),\n",
       "  n_features_to_select=3, step=1, verbose=0)"
      ]
     },
     "execution_count": 26,
     "metadata": {},
     "output_type": "execute_result"
    }
   ],
   "source": [
    "# initialize and fit RFE\n",
    "selector = RFE(estimator=gbm_rfe, n_features_to_select=3, step=1)\n",
    "selector.fit(X, y)"
   ]
  },
  {
   "cell_type": "code",
   "execution_count": null,
   "metadata": {
    "collapsed": true
   },
   "outputs": [],
   "source": []
  },
  {
   "cell_type": "code",
   "execution_count": 33,
   "metadata": {},
   "outputs": [
    {
     "data": {
      "text/plain": [
       "['distance_source', 'snr', 'depth_1']"
      ]
     },
     "execution_count": 33,
     "metadata": {},
     "output_type": "execute_result"
    }
   ],
   "source": [
    "# get the most important features\n",
    "[predictor_columns[i] for i, x in enumerate(selector.support_) if x]"
   ]
  },
  {
   "cell_type": "code",
   "execution_count": null,
   "metadata": {
    "collapsed": true
   },
   "outputs": [],
   "source": []
  },
  {
   "cell_type": "code",
   "execution_count": null,
   "metadata": {
    "collapsed": true
   },
   "outputs": [],
   "source": []
  },
  {
   "cell_type": "code",
   "execution_count": null,
   "metadata": {
    "collapsed": true
   },
   "outputs": [],
   "source": []
  },
  {
   "cell_type": "code",
   "execution_count": null,
   "metadata": {
    "collapsed": true
   },
   "outputs": [],
   "source": []
  }
 ],
 "metadata": {
  "kernelspec": {
   "display_name": "Python 3",
   "language": "python",
   "name": "python3"
  },
  "language_info": {
   "codemirror_mode": {
    "name": "ipython",
    "version": 3
   },
   "file_extension": ".py",
   "mimetype": "text/x-python",
   "name": "python",
   "nbconvert_exporter": "python",
   "pygments_lexer": "ipython3",
   "version": "3.6.1"
  }
 },
 "nbformat": 4,
 "nbformat_minor": 2
}
