{
 "cells": [
  {
   "cell_type": "code",
   "execution_count": null,
   "metadata": {
    "collapsed": true
   },
   "outputs": [],
   "source": []
  },
  {
   "cell_type": "markdown",
   "metadata": {},
   "source": [
    "# Import packages"
   ]
  },
  {
   "cell_type": "code",
   "execution_count": 1,
   "metadata": {
    "collapsed": true
   },
   "outputs": [],
   "source": [
    "import numpy as np\n",
    "import pandas as pd\n",
    "import scipy.io # read matlab file"
   ]
  },
  {
   "cell_type": "code",
   "execution_count": 2,
   "metadata": {
    "collapsed": true
   },
   "outputs": [],
   "source": [
    "FILE_PATH_SHORT = 'input/short_simulation.mat'\n",
    "FILE_PATH_LONG = 'input/long_simulation.mat'"
   ]
  },
  {
   "cell_type": "markdown",
   "metadata": {},
   "source": [
    "# Description of Simulation\n",
    "\n",
    "## Independent variables\n",
    "\n",
    "The file is a `.mat` file, it is a struct with **8** fields. The independent variables are: \n",
    "\n",
    "* **snr** (signal to noise ratio), \n",
    "* **con** (presence or not of the connection between the two sources), \n",
    "* **len** (length of the simulated signal), \n",
    "* **distance_sources** (distance between the two sources). \n",
    "*  **depth** : We can either keep the two depths separately, as \"depth_1\" and \"depth_2\", or consider a \"depth_mean\" (respectively the distance of the first and of the second source from the middle of the brain, and their mean value). Either we take the first two, or the third one, or all three values, in which case we drop the independence assumption.\n",
    "\n",
    "> For each experiment, all factor values are **randomly chosen.**\n",
    "\n",
    "## Dependent variables\n",
    "The dependent variables are collected in the field **\"Results\"**, inside you can find two matrices **FPR** and **FNR**. Their dimensions are **4x1000** where each row is a different result since for each simulation (experiment) we have two source localization approaches and two different connectivity estimates (so row1 is met. 1 est. 1; row2 is met. 1 est. 2; row3 is met. 2 est. 1; row4 is met. 2 est. 2). \n",
    "\n",
    "**Columns are different experiments.**  The two different source localization approaches, and the two methods used to evaluate connectivity, are to be considered as factors. "
   ]
  },
  {
   "cell_type": "code",
   "execution_count": null,
   "metadata": {
    "collapsed": true
   },
   "outputs": [],
   "source": []
  },
  {
   "cell_type": "markdown",
   "metadata": {},
   "source": [
    "# Structure of `Matlab` file"
   ]
  },
  {
   "cell_type": "markdown",
   "metadata": {},
   "source": [
    "Simulation is performed by using Matlab as software and High Performance Computer of Ghent University. Matlab file consists of two parts:\n",
    "* **First part** independent variables of the simulation.\n",
    "* **Second part** dependent variable. Here we have 4 results, which caused by two binary variables or two different algorithms used."
   ]
  },
  {
   "cell_type": "code",
   "execution_count": null,
   "metadata": {
    "collapsed": true
   },
   "outputs": [],
   "source": []
  },
  {
   "cell_type": "markdown",
   "metadata": {
    "collapsed": true
   },
   "source": [
    "# List of the functions"
   ]
  },
  {
   "cell_type": "code",
   "execution_count": 3,
   "metadata": {
    "collapsed": true
   },
   "outputs": [],
   "source": [
    "def _read_matlab_file(file_name):\n",
    "    '''Read in Matlab file and convert into Pandas DataFrame'''\n",
    "    \n",
    "    # read .mat file\n",
    "    eeg = scipy.io.loadmat(file_name)\n",
    "\n",
    "    # Get variable names of matlab file\n",
    "    print(list(eeg.keys()))\n",
    "\n",
    "    # convert .mat file to numpy array\n",
    "    eeg_array = eeg['Simulation']\n",
    "    \n",
    "    # print message\n",
    "    print('Matlab file is converted to DataFrame')\n",
    "    \n",
    "    return eeg_array"
   ]
  },
  {
   "cell_type": "code",
   "execution_count": 4,
   "metadata": {
    "collapsed": true
   },
   "outputs": [],
   "source": [
    "def _get_simulation_parameters(eeg_array):\n",
    "    '''Extract first part (parameters of simulation) of the parameters'''\n",
    "    \n",
    "    # generate id for each simulation\n",
    "    number_of_simulation = eeg_array['len'][0][0][0].shape[0]\n",
    "    simulation_id = [x for x in range(0, number_of_simulation)]\n",
    "\n",
    "    # combines variables\n",
    "    simulation = np.column_stack((simulation_id,\n",
    "                                  eeg_array['len'][0][0][0],\n",
    "                                  eeg_array['distance_sources'][0][0][0],\n",
    "                                  eeg_array['con'][0][0][0],\n",
    "                                  eeg_array['snr'][0][0][0],\n",
    "                                  eeg_array['depth_1'][0][0][0],\n",
    "                                  eeg_array['depth_2'][0][0][0]))\n",
    "    # convert to Data Frame\n",
    "    simulation = pd.DataFrame(simulation)\n",
    "\n",
    "    simulation.columns = ['id', 'len', \n",
    "                          'distance_source', \n",
    "                          'con', 'snr', \n",
    "                          'depth_1', 'depth_2']\n",
    "    print('Independent variables have been read : ', simulation.shape)\n",
    "              \n",
    "    return simulation"
   ]
  },
  {
   "cell_type": "code",
   "execution_count": 24,
   "metadata": {
    "collapsed": true
   },
   "outputs": [],
   "source": [
    "def _get_simulation_result(file_name, result_type='fpr'):\n",
    "    '''Read second part of the Matlab file and transform into required format.\n",
    "    \n",
    "    Result is the second part of the simulation, and for each simulation we have 4 target values, \n",
    "    for different algorithms (localization source and connectivity estimate):\n",
    "    \n",
    "    0 | 0.5 | 0 | 0\n",
    "    0 | 1   | 1 | 1\n",
    "    \n",
    "    The goal is to transform Result matrix to column matrix, where each target value placed on the seperate row:\n",
    "    \n",
    "    localization_source | connectivity_estimate | target\n",
    "    0 | 0 | 0\n",
    "    0 | 1 | 0.5\n",
    "    1 | 0 | 0\n",
    "    1 | 1 | 0\n",
    "    0 | 0 | 0\n",
    "    0 | 1 | 1\n",
    "    1 | 0 | 1\n",
    "    1 | 1 | 1\n",
    "    \n",
    "    '''\n",
    "    # get values\n",
    "    eeg_array = _read_matlab_file(file_name)\n",
    "    simulation = _get_simulation_parameters(eeg_array)\n",
    "    \n",
    "    # calculate variables about simulation\n",
    "    number_of_simulation = simulation.shape[0]\n",
    "    \n",
    "    # replicate each simulation independent variables 4 times\n",
    "    replicated_simulation = pd.concat([simulation] * 4).sort_index().reset_index()\n",
    "    \n",
    "    # get FPR and FNR from Result matrix\n",
    "    if result_type == 'fpr':\n",
    "        false_rate = np.transpose(eeg_array['Results'][0][0][0][0][0]) # False negative rate\n",
    "    else:\n",
    "        false_rate = np.transpose(eeg_array['Results'][0][0][0][0][1]) # False negative rate\n",
    "    \n",
    "    # encode 2 by 2 table with dummy variables: result contains 4 columns\n",
    "    # localization_source | connectivity_estimate\n",
    "    # 0 | 0\n",
    "    # 0 | 1\n",
    "    # 1 | 0\n",
    "    # 1 | 1\n",
    "    # total 4 possible values.\n",
    "    two_by_two_table = [0, 0, 0, 1, 1, 0, 1, 1]\n",
    "\n",
    "    # create numpy array from 2 by 2 table (list)\n",
    "    numpy_tbt_table = np.array(two_by_two_table * number_of_simulation)\n",
    "\n",
    "    # convert to correct size: from 1D to 2D\n",
    "    numpy_tbt_table = numpy_tbt_table.reshape(4 * number_of_simulation, 2)\n",
    "    \n",
    "    # reshape result matrix\n",
    "    fr_ = false_rate.reshape(false_rate.shape[0] * false_rate.shape[1])\n",
    "    \n",
    "    # combine and convert matrix to data frame\n",
    "    df_fr = pd.DataFrame(np.column_stack([numpy_tbt_table, fr_]))\n",
    "    \n",
    "    # rename columns\n",
    "    df_fr.rename(columns={0:'localization_source', 1:'connectivity_estimate', 2:'y'}, inplace=True)\n",
    "    \n",
    "    # combine with simulated dataframe\n",
    "    everything = pd.concat([replicated_simulation, df_fr], axis=1)\n",
    "    \n",
    "    # remove missing values from target value\n",
    "#     everything.dropna(axis=0, inplace=True)\n",
    "    \n",
    "    # delete (automatic) index column\n",
    "    del everything['index']\n",
    "    \n",
    "    print('Simulation Result is read')\n",
    "    \n",
    "    return everything"
   ]
  },
  {
   "cell_type": "code",
   "execution_count": 6,
   "metadata": {
    "collapsed": true
   },
   "outputs": [],
   "source": [
    "def _save_simulation(df, place_to_save):\n",
    "    '''Save simulation data into `csv`'''\n",
    "    df.to_csv(place_to_save, index=False)"
   ]
  },
  {
   "cell_type": "code",
   "execution_count": 7,
   "metadata": {
    "collapsed": true
   },
   "outputs": [],
   "source": [
    "def read_and_save_simulation(file_name, save=None):\n",
    "    '''Read Simulation file and save into csv file'''\n",
    "    \n",
    "    everything = _get_simulation_result(file_name)\n",
    "    \n",
    "    # save data frame at save file\n",
    "    if save is not None:\n",
    "        _save_simulation(everything, save)\n",
    "    \n",
    "    # return final result\n",
    "    return everything"
   ]
  },
  {
   "cell_type": "markdown",
   "metadata": {},
   "source": [
    "# Convert Matlab file into Pandas Data frame"
   ]
  },
  {
   "cell_type": "code",
   "execution_count": null,
   "metadata": {
    "collapsed": true
   },
   "outputs": [],
   "source": [
    "simulation = read_and_save_simulation(FILE_PATH_LONG, 'input/long_simulation.csv')"
   ]
  },
  {
   "cell_type": "markdown",
   "metadata": {},
   "source": [
    "## Basic Statistics about data set"
   ]
  },
  {
   "cell_type": "code",
   "execution_count": 28,
   "metadata": {},
   "outputs": [
    {
     "data": {
      "text/plain": [
       "(20000000, 10)"
      ]
     },
     "execution_count": 28,
     "metadata": {},
     "output_type": "execute_result"
    }
   ],
   "source": [
    "simulation.shape"
   ]
  },
  {
   "cell_type": "code",
   "execution_count": 29,
   "metadata": {},
   "outputs": [
    {
     "data": {
      "text/html": [
       "<div>\n",
       "<style>\n",
       "    .dataframe thead tr:only-child th {\n",
       "        text-align: right;\n",
       "    }\n",
       "\n",
       "    .dataframe thead th {\n",
       "        text-align: left;\n",
       "    }\n",
       "\n",
       "    .dataframe tbody tr th {\n",
       "        vertical-align: top;\n",
       "    }\n",
       "</style>\n",
       "<table border=\"1\" class=\"dataframe\">\n",
       "  <thead>\n",
       "    <tr style=\"text-align: right;\">\n",
       "      <th></th>\n",
       "      <th>id</th>\n",
       "      <th>len</th>\n",
       "      <th>distance_source</th>\n",
       "      <th>con</th>\n",
       "      <th>snr</th>\n",
       "      <th>depth_1</th>\n",
       "      <th>depth_2</th>\n",
       "      <th>localization_source</th>\n",
       "      <th>connectivity_estimate</th>\n",
       "      <th>y</th>\n",
       "    </tr>\n",
       "  </thead>\n",
       "  <tbody>\n",
       "    <tr>\n",
       "      <th>0</th>\n",
       "      <td>0.0</td>\n",
       "      <td>1179.0</td>\n",
       "      <td>89.452006</td>\n",
       "      <td>1.0</td>\n",
       "      <td>0.657092</td>\n",
       "      <td>93.914788</td>\n",
       "      <td>46.159509</td>\n",
       "      <td>0.0</td>\n",
       "      <td>0.0</td>\n",
       "      <td>1.0</td>\n",
       "    </tr>\n",
       "    <tr>\n",
       "      <th>1</th>\n",
       "      <td>0.0</td>\n",
       "      <td>1179.0</td>\n",
       "      <td>89.452006</td>\n",
       "      <td>1.0</td>\n",
       "      <td>0.657092</td>\n",
       "      <td>93.914788</td>\n",
       "      <td>46.159509</td>\n",
       "      <td>0.0</td>\n",
       "      <td>1.0</td>\n",
       "      <td>1.0</td>\n",
       "    </tr>\n",
       "    <tr>\n",
       "      <th>2</th>\n",
       "      <td>0.0</td>\n",
       "      <td>1179.0</td>\n",
       "      <td>89.452006</td>\n",
       "      <td>1.0</td>\n",
       "      <td>0.657092</td>\n",
       "      <td>93.914788</td>\n",
       "      <td>46.159509</td>\n",
       "      <td>1.0</td>\n",
       "      <td>0.0</td>\n",
       "      <td>1.0</td>\n",
       "    </tr>\n",
       "    <tr>\n",
       "      <th>3</th>\n",
       "      <td>0.0</td>\n",
       "      <td>1179.0</td>\n",
       "      <td>89.452006</td>\n",
       "      <td>1.0</td>\n",
       "      <td>0.657092</td>\n",
       "      <td>93.914788</td>\n",
       "      <td>46.159509</td>\n",
       "      <td>1.0</td>\n",
       "      <td>1.0</td>\n",
       "      <td>1.0</td>\n",
       "    </tr>\n",
       "    <tr>\n",
       "      <th>4</th>\n",
       "      <td>1.0</td>\n",
       "      <td>1214.0</td>\n",
       "      <td>61.476372</td>\n",
       "      <td>0.0</td>\n",
       "      <td>0.806123</td>\n",
       "      <td>65.795515</td>\n",
       "      <td>7.270739</td>\n",
       "      <td>0.0</td>\n",
       "      <td>0.0</td>\n",
       "      <td>0.5</td>\n",
       "    </tr>\n",
       "  </tbody>\n",
       "</table>\n",
       "</div>"
      ],
      "text/plain": [
       "    id     len  distance_source  con       snr    depth_1    depth_2  \\\n",
       "0  0.0  1179.0        89.452006  1.0  0.657092  93.914788  46.159509   \n",
       "1  0.0  1179.0        89.452006  1.0  0.657092  93.914788  46.159509   \n",
       "2  0.0  1179.0        89.452006  1.0  0.657092  93.914788  46.159509   \n",
       "3  0.0  1179.0        89.452006  1.0  0.657092  93.914788  46.159509   \n",
       "4  1.0  1214.0        61.476372  0.0  0.806123  65.795515   7.270739   \n",
       "\n",
       "   localization_source  connectivity_estimate    y  \n",
       "0                  0.0                    0.0  1.0  \n",
       "1                  0.0                    1.0  1.0  \n",
       "2                  1.0                    0.0  1.0  \n",
       "3                  1.0                    1.0  1.0  \n",
       "4                  0.0                    0.0  0.5  "
      ]
     },
     "execution_count": 29,
     "metadata": {},
     "output_type": "execute_result"
    }
   ],
   "source": [
    "# print first 5 rows\n",
    "simulation.head()"
   ]
  },
  {
   "cell_type": "code",
   "execution_count": 27,
   "metadata": {},
   "outputs": [
    {
     "data": {
      "text/html": [
       "<div>\n",
       "<style>\n",
       "    .dataframe thead tr:only-child th {\n",
       "        text-align: right;\n",
       "    }\n",
       "\n",
       "    .dataframe thead th {\n",
       "        text-align: left;\n",
       "    }\n",
       "\n",
       "    .dataframe tbody tr th {\n",
       "        vertical-align: top;\n",
       "    }\n",
       "</style>\n",
       "<table border=\"1\" class=\"dataframe\">\n",
       "  <thead>\n",
       "    <tr style=\"text-align: right;\">\n",
       "      <th></th>\n",
       "      <th>count</th>\n",
       "      <th>mean</th>\n",
       "      <th>std</th>\n",
       "      <th>min</th>\n",
       "      <th>25%</th>\n",
       "      <th>50%</th>\n",
       "      <th>75%</th>\n",
       "      <th>max</th>\n",
       "    </tr>\n",
       "  </thead>\n",
       "  <tbody>\n",
       "    <tr>\n",
       "      <th>id</th>\n",
       "      <td>20000000.0</td>\n",
       "      <td>2.500000e+06</td>\n",
       "      <td>1.443376e+06</td>\n",
       "      <td>0.000000</td>\n",
       "      <td>1.250000e+06</td>\n",
       "      <td>2.500000e+06</td>\n",
       "      <td>3.749999e+06</td>\n",
       "      <td>4.999999e+06</td>\n",
       "    </tr>\n",
       "    <tr>\n",
       "      <th>len</th>\n",
       "      <td>20000000.0</td>\n",
       "      <td>1.100042e+03</td>\n",
       "      <td>5.197037e+02</td>\n",
       "      <td>200.000000</td>\n",
       "      <td>6.500000e+02</td>\n",
       "      <td>1.100000e+03</td>\n",
       "      <td>1.550000e+03</td>\n",
       "      <td>2.000000e+03</td>\n",
       "    </tr>\n",
       "    <tr>\n",
       "      <th>distance_source</th>\n",
       "      <td>20000000.0</td>\n",
       "      <td>8.355302e+01</td>\n",
       "      <td>3.199951e+01</td>\n",
       "      <td>1.064023</td>\n",
       "      <td>5.992340e+01</td>\n",
       "      <td>8.313348e+01</td>\n",
       "      <td>1.069384e+02</td>\n",
       "      <td>1.813417e+02</td>\n",
       "    </tr>\n",
       "    <tr>\n",
       "      <th>con</th>\n",
       "      <td>20000000.0</td>\n",
       "      <td>5.000292e-01</td>\n",
       "      <td>5.000000e-01</td>\n",
       "      <td>0.000000</td>\n",
       "      <td>0.000000e+00</td>\n",
       "      <td>1.000000e+00</td>\n",
       "      <td>1.000000e+00</td>\n",
       "      <td>1.000000e+00</td>\n",
       "    </tr>\n",
       "    <tr>\n",
       "      <th>snr</th>\n",
       "      <td>20000000.0</td>\n",
       "      <td>7.499424e-01</td>\n",
       "      <td>1.443817e-01</td>\n",
       "      <td>0.500000</td>\n",
       "      <td>6.248526e-01</td>\n",
       "      <td>7.499275e-01</td>\n",
       "      <td>8.750370e-01</td>\n",
       "      <td>1.000000e+00</td>\n",
       "    </tr>\n",
       "    <tr>\n",
       "      <th>depth_1</th>\n",
       "      <td>20000000.0</td>\n",
       "      <td>6.407928e+01</td>\n",
       "      <td>2.056746e+01</td>\n",
       "      <td>5.967457</td>\n",
       "      <td>5.091088e+01</td>\n",
       "      <td>6.592941e+01</td>\n",
       "      <td>7.920287e+01</td>\n",
       "      <td>1.070131e+02</td>\n",
       "    </tr>\n",
       "    <tr>\n",
       "      <th>depth_2</th>\n",
       "      <td>20000000.0</td>\n",
       "      <td>6.407880e+01</td>\n",
       "      <td>2.056036e+01</td>\n",
       "      <td>5.967457</td>\n",
       "      <td>5.091088e+01</td>\n",
       "      <td>6.592941e+01</td>\n",
       "      <td>7.920287e+01</td>\n",
       "      <td>1.070131e+02</td>\n",
       "    </tr>\n",
       "    <tr>\n",
       "      <th>localization_source</th>\n",
       "      <td>20000000.0</td>\n",
       "      <td>5.000000e-01</td>\n",
       "      <td>5.000000e-01</td>\n",
       "      <td>0.000000</td>\n",
       "      <td>0.000000e+00</td>\n",
       "      <td>5.000000e-01</td>\n",
       "      <td>1.000000e+00</td>\n",
       "      <td>1.000000e+00</td>\n",
       "    </tr>\n",
       "    <tr>\n",
       "      <th>connectivity_estimate</th>\n",
       "      <td>20000000.0</td>\n",
       "      <td>5.000000e-01</td>\n",
       "      <td>5.000000e-01</td>\n",
       "      <td>0.000000</td>\n",
       "      <td>0.000000e+00</td>\n",
       "      <td>5.000000e-01</td>\n",
       "      <td>1.000000e+00</td>\n",
       "      <td>1.000000e+00</td>\n",
       "    </tr>\n",
       "    <tr>\n",
       "      <th>y</th>\n",
       "      <td>20000000.0</td>\n",
       "      <td>4.102542e-01</td>\n",
       "      <td>4.723381e-01</td>\n",
       "      <td>0.000000</td>\n",
       "      <td>0.000000e+00</td>\n",
       "      <td>0.000000e+00</td>\n",
       "      <td>1.000000e+00</td>\n",
       "      <td>1.000000e+00</td>\n",
       "    </tr>\n",
       "  </tbody>\n",
       "</table>\n",
       "</div>"
      ],
      "text/plain": [
       "                            count          mean           std         min  \\\n",
       "id                     20000000.0  2.500000e+06  1.443376e+06    0.000000   \n",
       "len                    20000000.0  1.100042e+03  5.197037e+02  200.000000   \n",
       "distance_source        20000000.0  8.355302e+01  3.199951e+01    1.064023   \n",
       "con                    20000000.0  5.000292e-01  5.000000e-01    0.000000   \n",
       "snr                    20000000.0  7.499424e-01  1.443817e-01    0.500000   \n",
       "depth_1                20000000.0  6.407928e+01  2.056746e+01    5.967457   \n",
       "depth_2                20000000.0  6.407880e+01  2.056036e+01    5.967457   \n",
       "localization_source    20000000.0  5.000000e-01  5.000000e-01    0.000000   \n",
       "connectivity_estimate  20000000.0  5.000000e-01  5.000000e-01    0.000000   \n",
       "y                      20000000.0  4.102542e-01  4.723381e-01    0.000000   \n",
       "\n",
       "                                25%           50%           75%           max  \n",
       "id                     1.250000e+06  2.500000e+06  3.749999e+06  4.999999e+06  \n",
       "len                    6.500000e+02  1.100000e+03  1.550000e+03  2.000000e+03  \n",
       "distance_source        5.992340e+01  8.313348e+01  1.069384e+02  1.813417e+02  \n",
       "con                    0.000000e+00  1.000000e+00  1.000000e+00  1.000000e+00  \n",
       "snr                    6.248526e-01  7.499275e-01  8.750370e-01  1.000000e+00  \n",
       "depth_1                5.091088e+01  6.592941e+01  7.920287e+01  1.070131e+02  \n",
       "depth_2                5.091088e+01  6.592941e+01  7.920287e+01  1.070131e+02  \n",
       "localization_source    0.000000e+00  5.000000e-01  1.000000e+00  1.000000e+00  \n",
       "connectivity_estimate  0.000000e+00  5.000000e-01  1.000000e+00  1.000000e+00  \n",
       "y                      0.000000e+00  0.000000e+00  1.000000e+00  1.000000e+00  "
      ]
     },
     "execution_count": 27,
     "metadata": {},
     "output_type": "execute_result"
    }
   ],
   "source": [
    "# descriptive statistics about features\n",
    "simulation.describe().T"
   ]
  },
  {
   "cell_type": "code",
   "execution_count": 26,
   "metadata": {},
   "outputs": [
    {
     "data": {
      "text/plain": [
       "id                       0\n",
       "len                      0\n",
       "distance_source          0\n",
       "con                      0\n",
       "snr                      0\n",
       "depth_1                  0\n",
       "depth_2                  0\n",
       "localization_source      0\n",
       "connectivity_estimate    0\n",
       "y                        0\n",
       "dtype: int64"
      ]
     },
     "execution_count": 26,
     "metadata": {},
     "output_type": "execute_result"
    }
   ],
   "source": [
    "# number of missing values per column\n",
    "simulation.isnull().sum()"
   ]
  },
  {
   "cell_type": "code",
   "execution_count": null,
   "metadata": {
    "collapsed": true
   },
   "outputs": [],
   "source": []
  }
 ],
 "metadata": {
  "kernelspec": {
   "display_name": "Python 3",
   "language": "python",
   "name": "python3"
  },
  "language_info": {
   "codemirror_mode": {
    "name": "ipython",
    "version": 3
   },
   "file_extension": ".py",
   "mimetype": "text/x-python",
   "name": "python",
   "nbconvert_exporter": "python",
   "pygments_lexer": "ipython3",
   "version": "3.6.1"
  }
 },
 "nbformat": 4,
 "nbformat_minor": 2
}
